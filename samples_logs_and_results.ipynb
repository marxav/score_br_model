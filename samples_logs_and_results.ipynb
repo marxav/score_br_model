{
 "cells": [
  {
   "cell_type": "code",
   "execution_count": 1,
   "metadata": {},
   "outputs": [],
   "source": [
    "import pandas as pd"
   ]
  },
  {
   "cell_type": "code",
   "execution_count": 2,
   "metadata": {},
   "outputs": [],
   "source": [
    "prefix_file = 'samples_br'"
   ]
  },
  {
   "cell_type": "code",
   "execution_count": 3,
   "metadata": {},
   "outputs": [],
   "source": [
    "pd.set_option('max_colwidth', None)\n",
    "pd.options.display.max_rows = 500\n",
    "df_logs = pd.read_csv(prefix_file + '_logs.tsv', sep='\\t')"
   ]
  },
  {
   "cell_type": "code",
   "execution_count": 4,
   "metadata": {},
   "outputs": [
    {
     "name": "stdout",
     "output_type": "stream",
     "text": [
      "(889, 9)\n"
     ]
    }
   ],
   "source": [
    "print(df_logs.shape)"
   ]
  },
  {
   "cell_type": "code",
   "execution_count": 5,
   "metadata": {},
   "outputs": [],
   "source": [
    "#df_logs"
   ]
  },
  {
   "cell_type": "code",
   "execution_count": 6,
   "metadata": {},
   "outputs": [],
   "source": [
    "df_res = pd.read_csv(prefix_file + '_res.tsv', sep='\\t')"
   ]
  },
  {
   "cell_type": "code",
   "execution_count": 7,
   "metadata": {},
   "outputs": [],
   "source": [
    "#df_res"
   ]
  },
  {
   "cell_type": "code",
   "execution_count": 8,
   "metadata": {},
   "outputs": [],
   "source": [
    "df_res['score'] = ''\n",
    "sep = ' ± '\n",
    "for i, row in df_res.iterrows():\n",
    "    df_res.at[i, 'score'] = str(row['score_mean']) + sep + str(row['score_std'])"
   ]
  },
  {
   "cell_type": "code",
   "execution_count": 12,
   "metadata": {},
   "outputs": [
    {
     "data": {
      "text/html": [
       "<div>\n",
       "<style scoped>\n",
       "    .dataframe tbody tr th:only-of-type {\n",
       "        vertical-align: middle;\n",
       "    }\n",
       "\n",
       "    .dataframe tbody tr th {\n",
       "        vertical-align: top;\n",
       "    }\n",
       "\n",
       "    .dataframe thead th {\n",
       "        text-align: right;\n",
       "    }\n",
       "</style>\n",
       "<table border=\"1\" class=\"dataframe\">\n",
       "  <thead>\n",
       "    <tr style=\"text-align: right;\">\n",
       "      <th></th>\n",
       "      <th>task</th>\n",
       "      <th>datetime</th>\n",
       "      <th>model</th>\n",
       "      <th>score_mean</th>\n",
       "      <th>score_std</th>\n",
       "      <th>price</th>\n",
       "      <th>n_tokens</th>\n",
       "      <th>src_n_words_mean</th>\n",
       "      <th>src_n_words_std</th>\n",
       "      <th>score</th>\n",
       "      <th>score_rank</th>\n",
       "      <th>price_rank</th>\n",
       "      <th>s_rank</th>\n",
       "      <th>p_rank</th>\n",
       "    </tr>\n",
       "  </thead>\n",
       "  <tbody>\n",
       "    <tr>\n",
       "      <th>140</th>\n",
       "      <td>br2fr</td>\n",
       "      <td>2024-10-03_20:31:19</td>\n",
       "      <td>huggingfaceh4/zephyr-7b-beta:free</td>\n",
       "      <td>0.0</td>\n",
       "      <td>0.0</td>\n",
       "      <td>0.000000</td>\n",
       "      <td>164</td>\n",
       "      <td>0.0</td>\n",
       "      <td>0.0</td>\n",
       "      <td>0.0 ± 0.0</td>\n",
       "      <td>130</td>\n",
       "      <td>31</td>\n",
       "      <td>130</td>\n",
       "      <td>31</td>\n",
       "    </tr>\n",
       "    <tr>\n",
       "      <th>141</th>\n",
       "      <td>br2fr</td>\n",
       "      <td>2024-10-03_20:31:26</td>\n",
       "      <td>anthropic/claude-instant-1.0</td>\n",
       "      <td>0.0</td>\n",
       "      <td>0.0</td>\n",
       "      <td>0.000314</td>\n",
       "      <td>230</td>\n",
       "      <td>0.0</td>\n",
       "      <td>0.0</td>\n",
       "      <td>0.0 ± 0.0</td>\n",
       "      <td>140</td>\n",
       "      <td>96</td>\n",
       "      <td>140</td>\n",
       "      <td>96</td>\n",
       "    </tr>\n",
       "    <tr>\n",
       "      <th>142</th>\n",
       "      <td>br2fr</td>\n",
       "      <td>2024-10-03_20:31:38</td>\n",
       "      <td>anthropic/claude-1.2</td>\n",
       "      <td>0.0</td>\n",
       "      <td>0.0</td>\n",
       "      <td>0.002968</td>\n",
       "      <td>223</td>\n",
       "      <td>0.0</td>\n",
       "      <td>0.0</td>\n",
       "      <td>0.0 ± 0.0</td>\n",
       "      <td>144</td>\n",
       "      <td>129</td>\n",
       "      <td>144</td>\n",
       "      <td>129</td>\n",
       "    </tr>\n",
       "    <tr>\n",
       "      <th>143</th>\n",
       "      <td>br2fr</td>\n",
       "      <td>2024-10-03_20:33:01</td>\n",
       "      <td>meta-llama/llama-2-13b-chat</td>\n",
       "      <td>0.0</td>\n",
       "      <td>0.0</td>\n",
       "      <td>0.000058</td>\n",
       "      <td>292</td>\n",
       "      <td>0.0</td>\n",
       "      <td>0.0</td>\n",
       "      <td>0.0 ± 0.0</td>\n",
       "      <td>133</td>\n",
       "      <td>51</td>\n",
       "      <td>133</td>\n",
       "      <td>51</td>\n",
       "    </tr>\n",
       "  </tbody>\n",
       "</table>\n",
       "</div>"
      ],
      "text/plain": [
       "      task             datetime                              model  \\\n",
       "140  br2fr  2024-10-03_20:31:19  huggingfaceh4/zephyr-7b-beta:free   \n",
       "141  br2fr  2024-10-03_20:31:26       anthropic/claude-instant-1.0   \n",
       "142  br2fr  2024-10-03_20:31:38               anthropic/claude-1.2   \n",
       "143  br2fr  2024-10-03_20:33:01        meta-llama/llama-2-13b-chat   \n",
       "\n",
       "     score_mean  score_std     price  n_tokens  src_n_words_mean  \\\n",
       "140         0.0        0.0  0.000000       164               0.0   \n",
       "141         0.0        0.0  0.000314       230               0.0   \n",
       "142         0.0        0.0  0.002968       223               0.0   \n",
       "143         0.0        0.0  0.000058       292               0.0   \n",
       "\n",
       "     src_n_words_std      score  score_rank  price_rank  s_rank  p_rank  \n",
       "140              0.0  0.0 ± 0.0         130          31     130      31  \n",
       "141              0.0  0.0 ± 0.0         140          96     140      96  \n",
       "142              0.0  0.0 ± 0.0         144         129     144     129  \n",
       "143              0.0  0.0 ± 0.0         133          51     133      51  "
      ]
     },
     "execution_count": 12,
     "metadata": {},
     "output_type": "execute_result"
    }
   ],
   "source": [
    "df_res['s_rank'] = (df_res['score_mean']-0.001*df_res['price']).rank(ascending=False, method='first').astype(int)\n",
    "df_res['p_rank'] = df_res['price'].rank(ascending=True, method='first').astype(int)\n",
    "df_res.tail(4)"
   ]
  },
  {
   "cell_type": "code",
   "execution_count": 13,
   "metadata": {},
   "outputs": [
    {
     "data": {
      "text/html": [
       "<div>\n",
       "<style scoped>\n",
       "    .dataframe tbody tr th:only-of-type {\n",
       "        vertical-align: middle;\n",
       "    }\n",
       "\n",
       "    .dataframe tbody tr th {\n",
       "        vertical-align: top;\n",
       "    }\n",
       "\n",
       "    .dataframe thead th {\n",
       "        text-align: right;\n",
       "    }\n",
       "</style>\n",
       "<table border=\"1\" class=\"dataframe\">\n",
       "  <thead>\n",
       "    <tr style=\"text-align: right;\">\n",
       "      <th></th>\n",
       "      <th>task</th>\n",
       "      <th>datetime</th>\n",
       "      <th>model</th>\n",
       "      <th>score_mean</th>\n",
       "      <th>score_std</th>\n",
       "      <th>price</th>\n",
       "      <th>n_tokens</th>\n",
       "      <th>src_n_words_mean</th>\n",
       "      <th>src_n_words_std</th>\n",
       "      <th>score</th>\n",
       "      <th>score_rank</th>\n",
       "      <th>price_rank</th>\n",
       "      <th>s_rank</th>\n",
       "      <th>p_rank</th>\n",
       "    </tr>\n",
       "  </thead>\n",
       "  <tbody>\n",
       "    <tr>\n",
       "      <th>0</th>\n",
       "      <td>br2fr</td>\n",
       "      <td>2024-10-03_20:24:05</td>\n",
       "      <td>openai/gpt-4-turbo-preview</td>\n",
       "      <td>0.97</td>\n",
       "      <td>0.05</td>\n",
       "      <td>0.00378</td>\n",
       "      <td>230</td>\n",
       "      <td>6.1</td>\n",
       "      <td>2.7</td>\n",
       "      <td>0.97 ± 0.05</td>\n",
       "      <td>1</td>\n",
       "      <td>136</td>\n",
       "      <td>1</td>\n",
       "      <td>136</td>\n",
       "    </tr>\n",
       "    <tr>\n",
       "      <th>1</th>\n",
       "      <td>br2fr</td>\n",
       "      <td>2024-10-03_20:26:57</td>\n",
       "      <td>openai/gpt-4-vision-preview</td>\n",
       "      <td>0.97</td>\n",
       "      <td>0.05</td>\n",
       "      <td>0.00378</td>\n",
       "      <td>230</td>\n",
       "      <td>6.1</td>\n",
       "      <td>2.7</td>\n",
       "      <td>0.97 ± 0.05</td>\n",
       "      <td>2</td>\n",
       "      <td>137</td>\n",
       "      <td>2</td>\n",
       "      <td>137</td>\n",
       "    </tr>\n",
       "  </tbody>\n",
       "</table>\n",
       "</div>"
      ],
      "text/plain": [
       "    task             datetime                        model  score_mean  \\\n",
       "0  br2fr  2024-10-03_20:24:05   openai/gpt-4-turbo-preview        0.97   \n",
       "1  br2fr  2024-10-03_20:26:57  openai/gpt-4-vision-preview        0.97   \n",
       "\n",
       "   score_std    price  n_tokens  src_n_words_mean  src_n_words_std  \\\n",
       "0       0.05  0.00378       230               6.1              2.7   \n",
       "1       0.05  0.00378       230               6.1              2.7   \n",
       "\n",
       "         score  score_rank  price_rank  s_rank  p_rank  \n",
       "0  0.97 ± 0.05           1         136       1     136  \n",
       "1  0.97 ± 0.05           2         137       2     137  "
      ]
     },
     "execution_count": 13,
     "metadata": {},
     "output_type": "execute_result"
    }
   ],
   "source": [
    "df_res.head(2)"
   ]
  },
  {
   "cell_type": "code",
   "execution_count": 14,
   "metadata": {},
   "outputs": [
    {
     "name": "stdout",
     "output_type": "stream",
     "text": [
      "| task   | model                                         | score       |   s_rank |       price |   p_rank |\n",
      "|:-------|:----------------------------------------------|:------------|---------:|------------:|---------:|\n",
      "| br2fr  | openai/gpt-4-turbo-preview                    | 0.97 ± 0.05 |        1 | 0.00378     |      136 |\n",
      "| br2fr  | openai/gpt-4-vision-preview                   | 0.97 ± 0.05 |        2 | 0.00378     |      137 |\n",
      "| br2fr  | openai/gpt-4-1106-preview                     | 0.97 ± 0.05 |        3 | 0.00384     |      138 |\n",
      "| br2fr  | openai/gpt-4o:extended                        | 0.95 ± 0.07 |        6 | 0.001968    |      122 |\n",
      "| br2fr  | anthropic/claude-3-haiku                      | 0.95 ± 0.07 |        4 | 0.00017025  |       79 |\n",
      "| br2fr  | anthropic/claude-3-haiku:beta                 | 0.95 ± 0.07 |        5 | 0.00017025  |       80 |\n",
      "| br2fr  | anthropic/claude-3-opus                       | 0.95 ± 0.06 |        7 | 0.01029     |      140 |\n",
      "| br2fr  | anthropic/claude-3-opus:beta                  | 0.95 ± 0.07 |        8 | 0.01029     |      141 |\n",
      "| br2fr  | google/palm-2-chat-bison-32k                  | 0.94 ± 0.1  |        9 | 0.000304    |       93 |\n",
      "| br2fr  | openai/gpt-4o-2024-05-13                      | 0.93 ± 0.08 |       10 | 0.00161     |      120 |\n",
      "| br2fr  | openai/gpt-4-turbo                            | 0.93 ± 0.08 |       11 | 0.00366     |      135 |\n",
      "| br2fr  | openai/chatgpt-4o-latest                      | 0.92 ± 0.07 |       13 | 0.0017      |      121 |\n",
      "| br2fr  | openai/gpt-4o-2024-08-06                      | 0.92 ± 0.1  |       12 | 0.00094     |      114 |\n",
      "| br2fr  | anthropic/claude-3.5-sonnet                   | 0.92 ± 0.17 |       14 | 0.002073    |      124 |\n",
      "| br2fr  | anthropic/claude-3.5-sonnet:beta              | 0.92 ± 0.17 |       15 | 0.002073    |      125 |\n",
      "| br2fr  | openai/o1-preview-2024-09-12                  | 0.91 ± 0.1  |       16 | 0.117255    |      144 |\n",
      "| br2fr  | google/gemini-pro-1.5-exp                     | 0.9 ± 0.14  |       17 | 0           |        1 |\n",
      "| br2fr  | google/gemini-flash-1.5-exp                   | 0.89 ± 0.1  |       18 | 0           |        2 |\n",
      "| br2fr  | nousresearch/hermes-3-llama-3.1-405b:free     | 0.89 ± 0.15 |       19 | 0           |        3 |\n",
      "| br2fr  | perplexity/llama-3.1-sonar-huge-128k-online   | 0.89 ± 0.14 |       20 | 0.001095    |      116 |\n",
      "| br2fr  | anthropic/claude-3-sonnet                     | 0.89 ± 0.16 |       21 | 0.002073    |      126 |\n",
      "| br2fr  | anthropic/claude-3-sonnet:beta                | 0.89 ± 0.16 |       22 | 0.002073    |      127 |\n",
      "| br2fr  | google/gemini-pro-vision                      | 0.88 ± 0.12 |       23 | 0.0001775   |       83 |\n",
      "| br2fr  | google-translate                              | 0.86 ± 0.17 |       24 | 0           |        4 |\n",
      "| br2fr  | meta-llama/llama-3.1-405b-instruct:free       | 0.86 ± 0.16 |       25 | 0           |        5 |\n",
      "| br2fr  | meta-llama/llama-3.2-90b-vision-instruct      | 0.85 ± 0.2  |       26 | 8.24e-05    |       60 |\n",
      "| br2fr  | nousresearch/hermes-3-llama-3.1-70b           | 0.85 ± 0.2  |       27 | 9.08e-05    |       66 |\n",
      "| br2fr  | perplexity/llama-3.1-sonar-large-128k-chat    | 0.84 ± 0.24 |       29 | 0.000228    |       89 |\n",
      "| br2fr  | meta-llama/llama-3.1-70b-instruct:free        | 0.84 ± 0.2  |       28 | 0           |        6 |\n",
      "| br2fr  | nousresearch/hermes-3-llama-3.1-405b:extended | 0.82 ± 0.25 |       30 | 0           |        7 |\n",
      "| br2fr  | openai/gpt-4o-mini-2024-07-18                 | 0.81 ± 0.2  |       31 | 5.7e-05     |       50 |\n",
      "| br2fr  | anthropic/claude-instant-1:beta               | 0.81 ± 0.17 |       32 | 0.000348    |      102 |\n",
      "| br2fr  | openai/gpt-4-0314                             | 0.8 ± 0.18  |       33 | 0.00942     |      139 |\n",
      "| br2fr  | perplexity/llama-3.1-sonar-large-128k-online  | 0.78 ± 0.31 |       35 | 0.000209    |       86 |\n",
      "| br2fr  | mistralai/mistral-large                       | 0.78 ± 0.3  |       36 | 0.000878    |      112 |\n",
      "| br2fr  | openrouter/auto                               | 0.78 ± 0.26 |       34 | 8.325e-05   |       62 |\n",
      "| br2fr  | anthropic/claude-2.0                          | 0.78 ± 0.23 |       37 | 0.003528    |      130 |\n",
      "| br2fr  | anthropic/claude-2.0:beta                     | 0.78 ± 0.23 |       38 | 0.003528    |      131 |\n",
      "| br2fr  | openai/gpt-4-32k-0314                         | 0.77 ± 0.21 |       40 | 0.0186      |      143 |\n",
      "| br2fr  | openai/gpt-3.5-turbo-0125                     | 0.77 ± 0.12 |       39 | 0.0001755   |       82 |\n",
      "| br2fr  | nothingiisreal/mn-celeste-12b                 | 0.73 ± 0.27 |       42 | 0.0003315   |       97 |\n",
      "| br2fr  | meta-llama/llama-3-70b-instruct               | 0.73 ± 0.23 |       41 | 0           |        8 |\n",
      "| br2fr  | anthropic/claude-2.1                          | 0.73 ± 0.26 |       43 | 0.0036      |      132 |\n",
      "| br2fr  | anthropic/claude-2.1:beta                     | 0.73 ± 0.26 |       44 | 0.0036      |      133 |\n",
      "| br2fr  | anthropic/claude-2:beta                       | 0.73 ± 0.26 |       45 | 0.0036      |      134 |\n",
      "| br2fr  | mistralai/mixtral-8x22b-instruct              | 0.72 ± 0.25 |       46 | 0.0002277   |       88 |\n",
      "| br2fr  | thedrummer/rocinante-12b                      | 0.71 ± 0.24 |       48 | 6.825e-05   |       58 |\n",
      "| br2fr  | mistralai/mistral-nemo                        | 0.71 ± 0.2  |       47 | 2.652e-05   |       38 |\n",
      "| br2fr  | openai/gpt-3.5-turbo-0613                     | 0.71 ± 0.27 |       50 | 0.000304    |       94 |\n",
      "| br2fr  | openai/gpt-3.5-turbo-1106                     | 0.71 ± 0.26 |       49 | 0.000292    |       92 |\n",
      "| br2fr  | openai/gpt-3.5-turbo-16k                      | 0.71 ± 0.27 |       51 | 0.000764    |      108 |\n",
      "| br2fr  | mistralai/pixtral-12b                         | 0.7 ± 0.25  |       53 | 2.17e-05    |       36 |\n",
      "| br2fr  | google/gemini-flash-8b-1.5-exp                | 0.7 ± 0.2   |       52 | 0           |        9 |\n",
      "| br2fr  | openai/gpt-3.5-turbo-instruct                 | 0.7 ± 0.24  |       54 | 0.0003995   |      104 |\n",
      "| br2fr  | ai21/jamba-1-5-large                          | 0.69 ± 0.26 |       57 | 0.000872    |      111 |\n",
      "| br2fr  | aetherwiing/mn-starcannon-12b                 | 0.69 ± 0.23 |       56 | 0.000448    |      105 |\n",
      "| br2fr  | microsoft/wizardlm-2-8x22b                    | 0.69 ± 0.17 |       55 | 0.0001335   |       73 |\n",
      "| br2fr  | ai21/jamba-instruct                           | 0.66 ± 0.17 |       58 | 0.0001434   |       75 |\n",
      "| br2fr  | perplexity/llama-3.1-sonar-small-128k-online  | 0.65 ± 0.18 |       59 | 4.2e-05     |       44 |\n",
      "| br2fr  | cohere/command-r-plus-08-2024                 | 0.63 ± 0.27 |       61 | 0.000985625 |      115 |\n",
      "| br2fr  | sao10k/l3-lunaris-8b                          | 0.63 ± 0.21 |       60 | 0.00055     |      107 |\n",
      "| br2fr  | perplexity/llama-3.1-sonar-small-128k-chat    | 0.62 ± 0.21 |       63 | 4.68e-05    |       47 |\n",
      "| br2fr  | cognitivecomputations/dolphin-mixtral-8x22b   | 0.62 ± 0.24 |       62 | 0           |       10 |\n",
      "| br2fr  | cohere/command-r-plus-04-2024                 | 0.62 ± 0.14 |       64 | 0.00135375  |      119 |\n",
      "| br2fr  | mistralai/mixtral-8x7b-instruct:nitro         | 0.61 ± 0.21 |       65 | 0.00014364  |       76 |\n",
      "| br2fr  | nousresearch/hermes-2-theta-llama-3-8b        | 0.6 ± 0.18  |       67 | 0.000106313 |       68 |\n",
      "| br2fr  | nousresearch/nous-hermes-llama2-13b           | 0.6 ± 0.14  |       66 | 0           |       11 |\n",
      "| br2fr  | meta-llama/llama-3.1-8b-instruct:free         | 0.58 ± 0.18 |       68 | 0           |       12 |\n",
      "| br2fr  | meta-llama/llama-3.2-11b-vision-instruct:free | 0.57 ± 0.17 |       69 | 0           |       13 |\n",
      "| br2fr  | openai/o1-mini-2024-09-12                     | 0.55 ± 0.21 |       73 | 0.013707    |      142 |\n",
      "| br2fr  | ai21/jamba-1-5-mini                           | 0.55 ± 0.19 |       70 | 6e-05       |       54 |\n",
      "| br2fr  | neversleep/llama-3-lumimaid-8b                | 0.55 ± 0.21 |       72 | 0.000122813 |       72 |\n",
      "| br2fr  | neversleep/llama-3-lumimaid-8b:extended       | 0.55 ± 0.22 |       71 | 0.000109688 |       69 |\n",
      "| br2fr  | meta-llama/llama-3-8b-instruct:free           | 0.54 ± 0.22 |       74 | 0           |       14 |\n",
      "| br2fr  | meta-llama/llama-3-8b-instruct:extended       | 0.54 ± 0.23 |       75 | 0.000113063 |       70 |\n",
      "| br2fr  | sao10k/l3.1-euryale-70b                       | 0.53 ± 0.12 |       76 | 0           |       15 |\n",
      "| br2fr  | cohere/command-r-08-2024                      | 0.52 ± 0.15 |       77 | 6.25575e-05 |       55 |\n",
      "| br2fr  | mistralai/mixtral-8x7b-instruct               | 0.52 ± 0.16 |       78 | 6.384e-05   |       56 |\n",
      "| br2fr  | nousresearch/hermes-2-pro-llama-3-8b          | 0.5 ± 0.19  |       79 | 3.276e-05   |       41 |\n",
      "| br2fr  | deepseek/deepseek-chat                        | 0.5 ± 0.23  |       80 | 4.536e-05   |       46 |\n",
      "| br2fr  | qwen/qwen-72b-chat                            | 0.5 ± 0.19  |       81 | 0.00017415  |       81 |\n",
      "| br2fr  | mistralai/mistral-medium                      | 0.5 ± 0.16  |       82 | 0.00113765  |      117 |\n",
      "| br2fr  | liquid/lfm-40b                                | 0.49 ± 0.16 |       83 | 0           |       16 |\n",
      "| br2fr  | liquid/lfm-40b:free                           | 0.49 ± 0.16 |       84 | 0           |       17 |\n",
      "| br2fr  | qwen/qwen-2-vl-72b-instruct                   | 0.47 ± 0.2  |       85 | 8.84e-05    |       65 |\n",
      "| br2fr  | nousresearch/nous-hermes-2-mixtral-8x7b-dpo   | 0.47 ± 0.16 |       86 | 0.0001512   |       77 |\n",
      "| br2fr  | neversleep/llama-3-lumimaid-70b               | 0.44 ± 0.16 |       87 | 0.0008685   |      110 |\n",
      "| br2fr  | anthracite-org/magnum-v2-72b                  | 0.43 ± 0.19 |       89 | 0.00084225  |      109 |\n",
      "| br2fr  | mistralai/mistral-small                       | 0.43 ± 0.1  |       88 | 8.32e-05    |       61 |\n",
      "| br2fr  | meta-llama/llama-3-8b-instruct:nitro          | 0.42 ± 0.16 |       90 | 3.9042e-05  |       43 |\n",
      "| br2fr  | cognitivecomputations/dolphin-mixtral-8x7b    | 0.42 ± 0.19 |       91 | 0.0001385   |       74 |\n",
      "| br2fr  | meta-llama/llama-3.2-3b-instruct:free         | 0.4 ± 0.11  |       92 | 0           |       18 |\n",
      "| br2fr  | cohere/command-r-03-2024                      | 0.4 ± 0.14  |       93 | 0.000161975 |       78 |\n",
      "| br2fr  | sao10k/l3-euryale-70b                         | 0.39 ± 0.15 |       94 | 0           |       19 |\n",
      "| br2fr  | qwen/qwen-2.5-72b-instruct                    | 0.38 ± 0.13 |       95 | 8.53e-05    |       64 |\n",
      "| br2fr  | alpindale/magnum-72b                          | 0.37 ± 0.11 |       96 | 0.0009255   |      113 |\n",
      "| br2fr  | microsoft/phi-3-mini-128k-instruct:free       | 0.36 ± 0.14 |       97 | 0           |       20 |\n",
      "| br2fr  | qwen/qwen-2-72b-instruct                      | 0.35 ± 0.14 |       98 | 8.336e-05   |       63 |\n",
      "| br2fr  | sao10k/fimbulvetr-11b-v2                      | 0.35 ± 0.14 |       99 | 0.000204375 |       85 |\n",
      "| br2fr  | qwen/qwen-2-7b-instruct:free                  | 0.34 ± 0.17 |      100 | 0           |       21 |\n",
      "| br2fr  | jondurbin/airoboros-l2-70b                    | 0.34 ± 0.16 |      101 | 0           |       22 |\n",
      "| br2fr  | eva-unit-01/eva-qwen-2.5-14b                  | 0.33 ± 0.08 |      104 | 7.075e-05   |       59 |\n",
      "| br2fr  | nousresearch/nous-hermes-yi-34b               | 0.33 ± 0.13 |      105 | 0.00021528  |       87 |\n",
      "| br2fr  | alpindale/goliath-120b                        | 0.33 ± 0.14 |      106 | 0.002775    |      128 |\n",
      "| br2fr  | undi95/toppy-m-7b:free                        | 0.33 ± 0.13 |      102 | 0           |       23 |\n",
      "| br2fr  | undi95/toppy-m-7b:nitro                       | 0.33 ± 0.13 |      103 | 2.03e-05    |       35 |\n",
      "| br2fr  | neversleep/noromaid-20b                       | 0.31 ± 0.14 |      107 | 0.000465    |      106 |\n",
      "| br2fr  | mistralai/mistral-7b-instruct:nitro           | 0.3 ± 0.09  |      109 | 1.953e-05   |       34 |\n",
      "| br2fr  | sophosympatheia/midnight-rose-70b             | 0.3 ± 0.1   |      108 | 0           |       24 |\n",
      "| br2fr  | lizpreciatior/lzlv-70b-fp16-hf                | 0.3 ± 0.09  |      110 | 9.655e-05   |       67 |\n",
      "| br2fr  | teknium/openhermes-2.5-mistral-7b             | 0.29 ± 0.17 |      111 | 4.522e-05   |       45 |\n",
      "| br2fr  | mistralai/mistral-7b-instruct-v0.3            | 0.28 ± 0.07 |      112 | 1.5675e-05  |       32 |\n",
      "| br2fr  | mistralai/mistral-7b-instruct-v0.2            | 0.28 ± 0.07 |      113 | 5.436e-05   |       49 |\n",
      "| br2fr  | microsoft/wizardlm-2-7b                       | 0.27 ± 0.05 |      115 | 1.584e-05   |       33 |\n",
      "| br2fr  | austism/chronos-hermes-13b                    | 0.27 ± 0.05 |      117 | 3.861e-05   |       42 |\n",
      "| br2fr  | openchat/openchat-7b:free                     | 0.27 ± 0.07 |      114 | 0           |       25 |\n",
      "| br2fr  | pygmalionai/mythalion-13b                     | 0.27 ± 0.05 |      119 | 0.000336375 |       98 |\n",
      "| br2fr  | undi95/remm-slerp-l2-13b                      | 0.27 ± 0.05 |      120 | 0.000336375 |       99 |\n",
      "| br2fr  | undi95/remm-slerp-l2-13b:extended             | 0.27 ± 0.05 |      121 | 0.000336375 |      100 |\n",
      "| br2fr  | gryphe/mythomax-l2-13b                        | 0.27 ± 0.05 |      116 | 2.97e-05    |       39 |\n",
      "| br2fr  | gryphe/mythomax-l2-13b:nitro                  | 0.27 ± 0.05 |      118 | 5.98e-05    |       52 |\n",
      "| br2fr  | gryphe/mythomax-l2-13b:extended               | 0.27 ± 0.05 |      122 | 0.000336375 |      101 |\n",
      "| br2fr  | mistralai/mistral-tiny                        | 0.26 ± 0.04 |      123 | 6.8e-05     |       57 |\n",
      "| br2fr  | gryphe/mythomist-7b:free                      | 0.23 ± 0.06 |      124 | 0           |       26 |\n",
      "| br2fr  | mistralai/mistral-7b-instruct-v0.1            | 0.22 ± 0.06 |      125 | 5.076e-05   |       48 |\n",
      "| br2fr  | meta-llama/llama-3.2-1b-instruct:free         | 0.0 ± 0.0   |      126 | 0           |       27 |\n",
      "| br2fr  | neversleep/llama-3.1-lumimaid-8b              | 0.0 ± 0.0   |      135 | 0.00012225  |       71 |\n",
      "| br2fr  | qwen/qwen-2-vl-7b-instruct                    | 0.0 ± 0.0   |      131 | 2.23e-05    |       37 |\n",
      "| br2fr  | microsoft/phi-3.5-mini-128k-instruct          | 0.0 ± 0.0   |      132 | 3.04e-05    |       40 |\n",
      "| br2fr  | google/gemma-2-27b-it                         | 0.0 ± 0.0   |      134 | 5.994e-05   |       53 |\n",
      "| br2fr  | google/gemma-2-9b-it:free                     | 0.0 ± 0.0   |      127 | 0           |       28 |\n",
      "| br2fr  | mistralai/mistral-7b-instruct:free            | 0.0 ± 0.0   |      128 | 0           |       29 |\n",
      "| br2fr  | microsoft/phi-3-medium-128k-instruct:free     | 0.0 ± 0.0   |      129 | 0           |       30 |\n",
      "| br2fr  | meta-llama/llama-guard-2-8b                   | 0.0 ± 0.0   |      142 | 0.00132966  |      118 |\n",
      "| br2fr  | qwen/qwen-110b-chat                           | 0.0 ± 0.0   |      141 | 0.00037746  |      103 |\n",
      "| br2fr  | meta-llama/llama-3-70b-instruct:nitro         | 0.0 ± 0.0   |      136 | 0.000181368 |       84 |\n",
      "| br2fr  | databricks/dbrx-instruct                      | 0.0 ± 0.0   |      138 | 0.00028944  |       91 |\n",
      "| br2fr  | anthropic/claude-instant-1.1                  | 0.0 ± 0.0   |      139 | 0.0003064   |       95 |\n",
      "| br2fr  | google/palm-2-codechat-bison-32k              | 0.0 ± 0.0   |      137 | 0.000264    |       90 |\n",
      "| br2fr  | xwin-lm/xwin-lm-70b                           | 0.0 ± 0.0   |      143 | 0.00198375  |      123 |\n",
      "| br2fr  | huggingfaceh4/zephyr-7b-beta:free             | 0.0 ± 0.0   |      130 | 0           |       31 |\n",
      "| br2fr  | anthropic/claude-instant-1.0                  | 0.0 ± 0.0   |      140 | 0.0003136   |       96 |\n",
      "| br2fr  | anthropic/claude-1.2                          | 0.0 ± 0.0   |      144 | 0.002968    |      129 |\n",
      "| br2fr  | meta-llama/llama-2-13b-chat                   | 0.0 ± 0.0   |      133 | 5.7816e-05  |       51 |\n",
      "\n"
     ]
    }
   ],
   "source": [
    "for task in df_res['task'].unique():\n",
    "    dfm = df_res.loc[df_res['task'] == task]\n",
    "    dfm = dfm[['task', 'model', 'score', 's_rank', 'price', 'p_rank']]\n",
    "    print(dfm.to_markdown(index=False))\n",
    "    print('')"
   ]
  },
  {
   "cell_type": "code",
   "execution_count": null,
   "metadata": {},
   "outputs": [],
   "source": []
  },
  {
   "cell_type": "code",
   "execution_count": 12,
   "metadata": {},
   "outputs": [],
   "source": [
    "prefix_file = 'samples_fr'"
   ]
  },
  {
   "cell_type": "code",
   "execution_count": 13,
   "metadata": {},
   "outputs": [],
   "source": [
    "pd.set_option('max_colwidth', None)\n",
    "pd.options.display.max_rows = 500\n",
    "df_logs = pd.read_csv(prefix_file + '_logs.tsv', sep='\\t')"
   ]
  },
  {
   "cell_type": "code",
   "execution_count": 14,
   "metadata": {},
   "outputs": [],
   "source": [
    "#df_logs"
   ]
  },
  {
   "cell_type": "code",
   "execution_count": 15,
   "metadata": {},
   "outputs": [],
   "source": [
    "df_res = pd.read_csv(prefix_file + '_res.tsv', sep='\\t')"
   ]
  },
  {
   "cell_type": "code",
   "execution_count": 16,
   "metadata": {},
   "outputs": [],
   "source": [
    "#df_res"
   ]
  },
  {
   "cell_type": "code",
   "execution_count": 17,
   "metadata": {},
   "outputs": [],
   "source": [
    "df_res['score'] = ''\n",
    "sep = ' ± '\n",
    "for i, row in df_res.iterrows():\n",
    "    df_res.at[i, 'score'] = str(row['score_mean']) + sep + str(row['score_std'])"
   ]
  },
  {
   "cell_type": "code",
   "execution_count": null,
   "metadata": {},
   "outputs": [],
   "source": [
    "df_res['score_rank'] = (df_res['score_mean']-0.001*df_res['price']).rank(ascending=False, method='first').astype(int)\n",
    "df_res['price_rank'] = df_res['price'].rank(ascending=True, method='first').astype(int)\n",
    "df_res.tail(4)"
   ]
  },
  {
   "cell_type": "code",
   "execution_count": null,
   "metadata": {},
   "outputs": [],
   "source": [
    "for task in df_res['task'].unique():\n",
    "    dfm = df_res.loc[df_res['task'] == task]\n",
    "    dfm = dfm[['task', 'model', 'score']]\n",
    "    print(dfm.to_markdown(index=False))\n",
    "    print('')"
   ]
  },
  {
   "cell_type": "code",
   "execution_count": null,
   "metadata": {},
   "outputs": [],
   "source": []
  },
  {
   "cell_type": "code",
   "execution_count": null,
   "metadata": {},
   "outputs": [],
   "source": []
  }
 ],
 "metadata": {
  "kernelspec": {
   "display_name": "Python 3 (ipykernel)",
   "language": "python",
   "name": "python3"
  },
  "language_info": {
   "codemirror_mode": {
    "name": "ipython",
    "version": 3
   },
   "file_extension": ".py",
   "mimetype": "text/x-python",
   "name": "python",
   "nbconvert_exporter": "python",
   "pygments_lexer": "ipython3",
   "version": "3.11.4"
  }
 },
 "nbformat": 4,
 "nbformat_minor": 4
}
